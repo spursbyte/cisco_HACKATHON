{
  "nbformat": 4,
  "nbformat_minor": 0,
  "metadata": {
    "colab": {
      "name": "article_summarizer.ipynb",
      "provenance": [],
      "collapsed_sections": []
    },
    "kernelspec": {
      "name": "python3",
      "display_name": "Python 3"
    }
  },
  "cells": [
    {
      "cell_type": "code",
      "metadata": {
        "colab": {
          "base_uri": "https://localhost:8080/"
        },
        "id": "3TRKTZyN_3I1",
        "outputId": "4b8f6bbb-5cdc-48db-8f86-1e9a7c3a08cf"
      },
      "source": [
        "pip install newspaper3k"
      ],
      "execution_count": null,
      "outputs": [
        {
          "output_type": "stream",
          "text": [
            "Collecting newspaper3k\n",
            "\u001b[?25l  Downloading https://files.pythonhosted.org/packages/d7/b9/51afecb35bb61b188a4b44868001de348a0e8134b4dfa00ffc191567c4b9/newspaper3k-0.2.8-py3-none-any.whl (211kB)\n",
            "\r\u001b[K     |█▌                              | 10kB 12.4MB/s eta 0:00:01\r\u001b[K     |███                             | 20kB 16.1MB/s eta 0:00:01\r\u001b[K     |████▋                           | 30kB 12.7MB/s eta 0:00:01\r\u001b[K     |██████▏                         | 40kB 9.7MB/s eta 0:00:01\r\u001b[K     |███████▊                        | 51kB 5.3MB/s eta 0:00:01\r\u001b[K     |█████████▎                      | 61kB 5.9MB/s eta 0:00:01\r\u001b[K     |██████████▉                     | 71kB 6.5MB/s eta 0:00:01\r\u001b[K     |████████████▍                   | 81kB 6.6MB/s eta 0:00:01\r\u001b[K     |██████████████                  | 92kB 6.9MB/s eta 0:00:01\r\u001b[K     |███████████████▌                | 102kB 7.2MB/s eta 0:00:01\r\u001b[K     |█████████████████               | 112kB 7.2MB/s eta 0:00:01\r\u001b[K     |██████████████████▋             | 122kB 7.2MB/s eta 0:00:01\r\u001b[K     |████████████████████▏           | 133kB 7.2MB/s eta 0:00:01\r\u001b[K     |█████████████████████▊          | 143kB 7.2MB/s eta 0:00:01\r\u001b[K     |███████████████████████▎        | 153kB 7.2MB/s eta 0:00:01\r\u001b[K     |████████████████████████▉       | 163kB 7.2MB/s eta 0:00:01\r\u001b[K     |██████████████████████████▍     | 174kB 7.2MB/s eta 0:00:01\r\u001b[K     |████████████████████████████    | 184kB 7.2MB/s eta 0:00:01\r\u001b[K     |█████████████████████████████▌  | 194kB 7.2MB/s eta 0:00:01\r\u001b[K     |███████████████████████████████ | 204kB 7.2MB/s eta 0:00:01\r\u001b[K     |████████████████████████████████| 215kB 7.2MB/s \n",
            "\u001b[?25hRequirement already satisfied: requests>=2.10.0 in /usr/local/lib/python3.6/dist-packages (from newspaper3k) (2.23.0)\n",
            "Collecting tldextract>=2.0.1\n",
            "\u001b[?25l  Downloading https://files.pythonhosted.org/packages/7e/62/b6acd3129c5615b9860e670df07fd55b76175b63e6b7f68282c7cad38e9e/tldextract-3.1.0-py2.py3-none-any.whl (87kB)\n",
            "\u001b[K     |████████████████████████████████| 92kB 6.2MB/s \n",
            "\u001b[?25hRequirement already satisfied: lxml>=3.6.0 in /usr/local/lib/python3.6/dist-packages (from newspaper3k) (4.2.6)\n",
            "Requirement already satisfied: beautifulsoup4>=4.4.1 in /usr/local/lib/python3.6/dist-packages (from newspaper3k) (4.6.3)\n",
            "Requirement already satisfied: nltk>=3.2.1 in /usr/local/lib/python3.6/dist-packages (from newspaper3k) (3.2.5)\n",
            "Requirement already satisfied: PyYAML>=3.11 in /usr/local/lib/python3.6/dist-packages (from newspaper3k) (3.13)\n",
            "Collecting jieba3k>=0.35.1\n",
            "\u001b[?25l  Downloading https://files.pythonhosted.org/packages/a9/cb/2c8332bcdc14d33b0bedd18ae0a4981a069c3513e445120da3c3f23a8aaa/jieba3k-0.35.1.zip (7.4MB)\n",
            "\u001b[K     |████████████████████████████████| 7.4MB 12.1MB/s \n",
            "\u001b[?25hCollecting feedfinder2>=0.0.4\n",
            "  Downloading https://files.pythonhosted.org/packages/35/82/1251fefec3bb4b03fd966c7e7f7a41c9fc2bb00d823a34c13f847fd61406/feedfinder2-0.0.4.tar.gz\n",
            "Collecting tinysegmenter==0.3\n",
            "  Downloading https://files.pythonhosted.org/packages/17/82/86982e4b6d16e4febc79c2a1d68ee3b707e8a020c5d2bc4af8052d0f136a/tinysegmenter-0.3.tar.gz\n",
            "Collecting feedparser>=5.2.1\n",
            "\u001b[?25l  Downloading https://files.pythonhosted.org/packages/1c/21/faf1bac028662cc8adb2b5ef7a6f3999a765baa2835331df365289b0ca56/feedparser-6.0.2-py3-none-any.whl (80kB)\n",
            "\u001b[K     |████████████████████████████████| 81kB 7.6MB/s \n",
            "\u001b[?25hRequirement already satisfied: python-dateutil>=2.5.3 in /usr/local/lib/python3.6/dist-packages (from newspaper3k) (2.8.1)\n",
            "Requirement already satisfied: Pillow>=3.3.0 in /usr/local/lib/python3.6/dist-packages (from newspaper3k) (7.0.0)\n",
            "Collecting cssselect>=0.9.2\n",
            "  Downloading https://files.pythonhosted.org/packages/3b/d4/3b5c17f00cce85b9a1e6f91096e1cc8e8ede2e1be8e96b87ce1ed09e92c5/cssselect-1.1.0-py2.py3-none-any.whl\n",
            "Requirement already satisfied: chardet<4,>=3.0.2 in /usr/local/lib/python3.6/dist-packages (from requests>=2.10.0->newspaper3k) (3.0.4)\n",
            "Requirement already satisfied: urllib3!=1.25.0,!=1.25.1,<1.26,>=1.21.1 in /usr/local/lib/python3.6/dist-packages (from requests>=2.10.0->newspaper3k) (1.24.3)\n",
            "Requirement already satisfied: idna<3,>=2.5 in /usr/local/lib/python3.6/dist-packages (from requests>=2.10.0->newspaper3k) (2.10)\n",
            "Requirement already satisfied: certifi>=2017.4.17 in /usr/local/lib/python3.6/dist-packages (from requests>=2.10.0->newspaper3k) (2020.12.5)\n",
            "Requirement already satisfied: filelock>=3.0.8 in /usr/local/lib/python3.6/dist-packages (from tldextract>=2.0.1->newspaper3k) (3.0.12)\n",
            "Collecting requests-file>=1.4\n",
            "  Downloading https://files.pythonhosted.org/packages/77/86/cdb5e8eaed90796aa83a6d9f75cfbd37af553c47a291cd47bc410ef9bdb2/requests_file-1.5.1-py2.py3-none-any.whl\n",
            "Requirement already satisfied: six in /usr/local/lib/python3.6/dist-packages (from nltk>=3.2.1->newspaper3k) (1.15.0)\n",
            "Collecting sgmllib3k\n",
            "  Downloading https://files.pythonhosted.org/packages/9e/bd/3704a8c3e0942d711c1299ebf7b9091930adae6675d7c8f476a7ce48653c/sgmllib3k-1.0.0.tar.gz\n",
            "Building wheels for collected packages: jieba3k, feedfinder2, tinysegmenter, sgmllib3k\n",
            "  Building wheel for jieba3k (setup.py) ... \u001b[?25l\u001b[?25hdone\n",
            "  Created wheel for jieba3k: filename=jieba3k-0.35.1-cp36-none-any.whl size=7398406 sha256=07ea376321884457319986b2ef94168b02a187589778195a1f1b00659794f2ff\n",
            "  Stored in directory: /root/.cache/pip/wheels/83/15/9c/a3f1f67e7f7181170ad37d32e503c35da20627c013f438ed34\n",
            "  Building wheel for feedfinder2 (setup.py) ... \u001b[?25l\u001b[?25hdone\n",
            "  Created wheel for feedfinder2: filename=feedfinder2-0.0.4-cp36-none-any.whl size=3358 sha256=3d552f1b48ac99ed05e52a5985a9680d76be99a14d1f7e3d3da87cb0ad9841ae\n",
            "  Stored in directory: /root/.cache/pip/wheels/de/03/ca/778e3a7a627e3d98836cc890e7cb40c7575424cfd3340f40ed\n",
            "  Building wheel for tinysegmenter (setup.py) ... \u001b[?25l\u001b[?25hdone\n",
            "  Created wheel for tinysegmenter: filename=tinysegmenter-0.3-cp36-none-any.whl size=13538 sha256=dbc15af78b04320285dcb0bca33bf25e1cec47c287968f8c814e48716d70db26\n",
            "  Stored in directory: /root/.cache/pip/wheels/81/2b/43/a02ede72324dd40cdd7ca53aad718c7710628e91b8b0dc0f02\n",
            "  Building wheel for sgmllib3k (setup.py) ... \u001b[?25l\u001b[?25hdone\n",
            "  Created wheel for sgmllib3k: filename=sgmllib3k-1.0.0-cp36-none-any.whl size=6066 sha256=3a7cee9af93ef44486a5e16d562695bf18d3055b7ea03f3018bef03087608731\n",
            "  Stored in directory: /root/.cache/pip/wheels/f1/80/5a/444ba08a550cdd241bd9baf8bae44be750efe370adb944506a\n",
            "Successfully built jieba3k feedfinder2 tinysegmenter sgmllib3k\n",
            "Installing collected packages: requests-file, tldextract, jieba3k, feedfinder2, tinysegmenter, sgmllib3k, feedparser, cssselect, newspaper3k\n",
            "Successfully installed cssselect-1.1.0 feedfinder2-0.0.4 feedparser-6.0.2 jieba3k-0.35.1 newspaper3k-0.2.8 requests-file-1.5.1 sgmllib3k-1.0.0 tinysegmenter-0.3 tldextract-3.1.0\n"
          ],
          "name": "stdout"
        }
      ]
    },
    {
      "cell_type": "code",
      "metadata": {
        "id": "hT4sd38a_ozy"
      },
      "source": [
        "from newspaper import Article\r\n",
        "import nltk"
      ],
      "execution_count": null,
      "outputs": []
    },
    {
      "cell_type": "code",
      "metadata": {
        "colab": {
          "base_uri": "https://localhost:8080/"
        },
        "id": "COhC1uAI_-nA",
        "outputId": "de1ce5ed-8044-4513-e6b0-83bd5ac989ee"
      },
      "source": [
        "nltk.download('punkt')\r\n"
      ],
      "execution_count": null,
      "outputs": [
        {
          "output_type": "stream",
          "text": [
            "[nltk_data] Downloading package punkt to /root/nltk_data...\n",
            "[nltk_data]   Unzipping tokenizers/punkt.zip.\n"
          ],
          "name": "stdout"
        },
        {
          "output_type": "execute_result",
          "data": {
            "text/plain": [
              "True"
            ]
          },
          "metadata": {
            "tags": []
          },
          "execution_count": 4
        }
      ]
    },
    {
      "cell_type": "code",
      "metadata": {
        "id": "4ZAhXM9OADQX"
      },
      "source": [
        "url= 'https://timesofindia.indiatimes.com/india/india-tops-asia-in-bribery-use-of-personal-connections-to-access-public-services-survey-report/articleshow/79408336.cms'\r\n"
      ],
      "execution_count": null,
      "outputs": []
    },
    {
      "cell_type": "code",
      "metadata": {
        "id": "NQRenBcMArd2"
      },
      "source": [
        "article = Article(url, language=\"en\") # en for English \r\n"
      ],
      "execution_count": null,
      "outputs": []
    },
    {
      "cell_type": "code",
      "metadata": {
        "id": "STAtny27Aj-7"
      },
      "source": [
        "article.download() \r\n",
        "article.parse() \r\n",
        "article.nlp() "
      ],
      "execution_count": null,
      "outputs": []
    },
    {
      "cell_type": "code",
      "metadata": {
        "colab": {
          "base_uri": "https://localhost:8080/"
        },
        "id": "rISqrrV-Auc6",
        "outputId": "9df0ed84-65b9-4514-e885-ae021177e963"
      },
      "source": [
        
        "print(\"Article Title:\") \r\n",
        "print(article.title) #prints the title of the article\r\n",
        "print(\"\\n\") \r\n",
        "print(\"Article Text:\") \r\n",
        "print(article.text) #prints the entire text of the article\r\n",
        "print(\"\\n\") \r\n",
        "print(\"Article Summary:\") \r\n",
        "print(article.summary) #prints the summary of the article\r\n",
        "print(\"\\n\") \r\n",
        "print(\"Article Keywords:\")\r\n",
        "print(article.keywords) #prints the keywords of the article"
      ],
      "execution_count": null,
      "outputs": [
        {
          "output_type": "stream",
          "text": [
            "Article Title:\n",
            "India tops Asia in bribery, use of personal connections to access public services: Survey report\n",
            "\n",
            "\n",
            "Article Text:\n",
            "Times View In India, the focus is often on big ticket corruption. Low-level corruption, such as bribery in government offices, is often overlooked. But the truth is that common people are more affected by such petty corruption, which is more widespread and deep rooted. Rejigging systems to minimise discretionary powers and a more proactive role by vigilance departments, anti-corruption units and whistleblowers would help contain the menace.\n",
            "\n",
            "Global highlights:\n",
            "\n",
            "Bribe for votes\n",
            "\n",
            "Anti-corruption agencies, citizens offer hope\n",
            "\n",
            "47% percent people surveyed in India, believe that corruption has increased over the past 12 months while 63% believe that the government is doing a good job is tackling corruption. Perhaps, the ‘feel good’ factor ends here.India has emerged as having the highest bribery rate of 39% in the Asian region and the highest rate of people (46%) who used personal connections to access public services, according to a recent survey-report released by Transparency International, a global civil society. Nearly 50% of those who paid bribes were asked to, while 32% of those who used personal connections said they would not receive the service otherwise.In an earlier report, issued by Transparency International, which was released in January at Davos at the World Economic Forum, India had been ranked at 80th position among 180 countries in the Corruption Perception Index.For the survey-report titled ‘ Global Corruption Barometer – Asia ,’ Transparency International surveyed 20,000 people across 17 Asian countries – largely between June-September this year, seeking their perception of and experiences with corruption in the past twelve months. Six key public services are covered in the report, viz: police, courts, public hospitals, procurement of identity documents and utilities.Of the people surveyed in India, who came into contact with the police, 42% had paid bribes. Use of bribes was also rampant (41%) to obtain official documents such as identity papers. Use of personal connections was also largely made in dealings with the police (39%), procurement of identity documents (42%) and in relation to courts (38%).Bribery in public services continues to plague India. Slow and complicated bureaucratic process, unnecessary red tape and unclear regulatory frameworks force citizens to seek out alternate solutions to access basic services through networks of familiarity and petty corruption, cites the report. An issue of concern, reflected in the report is that while reporting of corruption is critical to curbing the spread, as many as 63% of those in India, were particularly concerned about retaliation.“Both national and state governments need to streamline administrative processes for public services, implement preventative measures to combat bribery and nepotism, and invest in user friendly online platforms to deliver essential public services quickly and effectively,” adds the survey-report.The survey-report finds that three-quarters of respondents believe that government corruption is a big problem in their country, with nearly one in five people (19%) paying a bribe when accessing public services in the previous year. This is equivalent to about 836 million people.Nearly 38% of people surveyed think corruption increased in their country in the previous twelve months, while another 28% think it stayed the same. In Nepal and Thailand, a clear majority of citizens (58% and 55% respectively) think corruption increased. Conversely, a majority of citizens in China (64%), the Philippines (64%) and Cambodia (55%) think that corruption decreased, cites the report.Second to India with a bribery rate of 39%, was Cambodia at 37%, followed by Indonesia at 30%. The Maldives and Japan maintained the lowest overall bribery rate (2 per cent), followed by South Korea (10 per cent) and Nepal (12 per cent). However, even in these countries, governments could do more to stop bribes for public services, states Transparency International.In addition to bribery, the use of personal connections to access public services is also prevalent across Asia. The results found that more than one in five people (22%) who accessed public services used their personal connections to receive the assistance they needed.India had the highest rate of citizens using personal connections to access a service, at 46%, followed by Indonesia at 36% and China at 32.%. Conversely, in Japan and Cambodia, a small minority of those who accessed public services used their personal connections, only 4% and 6% respectively.Overall, 24% of people who paid bribes said they were asked to do so, while 30% of people who used personal connections said they would not have received the service otherwise. “This suggests that people are paying bribes to speed up essential services, highlighting red tape and inefficient bureaucracy, while pushing those without the means at their disposal to the back of the queue,” states Transparency International. Young people aged 18 to 34 are most likely to pay a bribe or use personal connections than any other age group, cites the report.Perception of the government: The report admits that it comes as a surprise that while most citizens consider corruption a big problem in their countries, they still voice positive support for the actions taken by their governments. This contradiction may be a sign of recent progress of some governments or a reluctance from citizens living in authoritarian regimes to blame the government.The results show most citizens (61%) think their government is doing a good job at addressing corruption risks. Myanmar has the highest percentage of citizens at 93% who think that the government is doing well in tackling corruption, followed by Bangladesh (87%) and the Philippines (85%). While Japan had the lowest bribery rate and the lowest percentage of people who used personal connections to access a service, 76% of citizens in Japan think their government is failing to fight corruption, followed by Thailand (73 per cent), South Korea (55 per cent) and the Maldives (53 per cent).However, corruption contributes to the erosion of citizens’ trust in government. The results show that trust in government is lower than trust in the courts or the police across Asia. The majority of citizens in Thailand (71%), Japan (56%), the Maldives (55%), and India (51%) have little or no trust in government.: The survey found corruption around elections is also prevalent. Nearly one in seven people were offered bribes in exchange for votes at a national, regional or local election in the past five years.While vote-buying was the highest in Thailand and the Philippines where 28% were offered a bribe in return for a vote, followed by Indonesia at 26%, India came fourth in the line with a rate of 18%.“Protecting the integrity of elections is critical to ensuring that corruption doesn’t undermine democracy,” said Delia Ferreira Rubio, Chair of Transparency International. “Throughout the region, election commissions and anti-corruption agencies need to work in lockstep to counter vote-buying, which weakens trust in government.”Sextortion: For the first time, the survey highlights data on sextortion – the abuse of power to obtain a sexual benefit in exchange for public services, like health care. The results show that the highest sextortion rate is in Indonesia, where 18% of people experience sextortion or know someone who has, followed by Sri Lanka and Thailand, with sextortion rates of 17% and 15% respectively. India’s rate was 11%.: Across Asia, more than three out of four people (76%) are familiar with the anti-corruption agency in their country, of which, 63% think that the agency is doing a good job. The three national anti-corruption agencies with the highest approval ratings are Myanmar (94%), Bangladesh (86%) and Nepal (84%). India stood at 73%.In addition, people across Asia region are hopeful about the future of anti-corruption. More than three in five (62%) think that ordinary people can make a difference in the fight against corruption.Unfortunately, nearly 54% of the people across Asian region, feared retaliation if they reported corruption. Nearly 69% in South Korea and 63% in India and Bangladesh were particularly concerned about retaliation.The survey-report concludes that to provide victims of corruption with channels for redress, governments must ensure that bribery is criminalised and actively investigated and prosecuted. Citizens must have access to safe and confidential reporting mechanisms and governments must do more to ease citizens’ fear of retaliation in reporting corruption.\n",
            "\n",
            "\n",
            "Article Summary:\n",
            "Six key public services are covered in the report, viz: police, courts, public hospitals, procurement of identity documents and utilities.Of the people surveyed in India, who came into contact with the police, 42% had paid bribes.\n",
            "Use of personal connections was also largely made in dealings with the police (39%), procurement of identity documents (42%) and in relation to courts (38%).Bribery in public services continues to plague India.\n",
            "In Nepal and Thailand, a clear majority of citizens (58% and 55% respectively) think corruption increased.\n",
            "The Maldives and Japan maintained the lowest overall bribery rate (2 per cent), followed by South Korea (10 per cent) and Nepal (12 per cent).\n",
            "However, even in these countries, governments could do more to stop bribes for public services, states Transparency International.In addition to bribery, the use of personal connections to access public services is also prevalent across Asia.\n",
            "\n",
            "\n",
            "Article Keywords:\n",
            "['bribery', 'think', 'personal', 'rate', 'india', 'corruption', 'report', 'services', 'connections', 'citizens', 'survey', 'asia', 'public', 'tops']\n"
          ],
          "name": "stdout"
        }
      ]
    },
    {
      "cell_type": "code",
      "metadata": {
        "id": "PWFt5_iGA4MZ"
      },
      "source": [
        "file1=open(\"NewsFile.txt\", \"w+\")\r\n",
        "file1.write(\"Title:\\n\")\r\n",
        "file1.write(article.title)\r\n",
        "file1.write(\"\\n\\nArticle Text:\\n\")\r\n",
        "file1.write(article.text)\r\n",
        "file1.write(\"\\n\\nArticle Summary:\\n\")\r\n",
        "file1.write(article.summary)\r\n",
        "file1.write(\"\\n\\n\\nArticle Keywords:\\n\")\r\n",
        "keywords='\\n'.join(article.keywords)\r\n",
        "file1.write(keywords)\r\n",
        "file1.close()"
      ],
      "execution_count": null,
      "outputs": []
    },
    {
      "cell_type": "code",
      "metadata": {
        "id": "l1gpQZMyA9Ye"
      },
      "source": [
        ""
      ],
      "execution_count": null,
      "outputs": []
    }
  ]
}
