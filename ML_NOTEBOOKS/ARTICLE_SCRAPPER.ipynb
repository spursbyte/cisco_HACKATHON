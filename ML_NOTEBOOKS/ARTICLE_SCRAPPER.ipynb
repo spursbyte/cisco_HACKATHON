{
  "nbformat": 4,
  "nbformat_minor": 0,
  "metadata": {
    "colab": {
      "name": "article_summariser.ipynb",
      "provenance": [],
      "collapsed_sections": []
    },
    "kernelspec": {
      "name": "python3",
      "display_name": "Python 3"
    }
  },
  "cells": [
    {
      "cell_type": "code",
      "metadata": {
        "colab": {
          "base_uri": "https://localhost:8080/"
        },
        "id": "TRxzsAZuCOhk",
        "outputId": "ff31124b-ea49-42d3-8e14-a73414b59a74"
      },
      "source": [
        "pip install newsapi-python\r\n"
      ],
      "execution_count": null,
      "outputs": [
        {
          "output_type": "stream",
          "text": [
            "Collecting newsapi-python\n",
            "  Downloading https://files.pythonhosted.org/packages/de/9e/9050199ac7cbc755d1c49577fdaa5517901124b574264b3602a8b8028440/newsapi_python-0.2.6-py2.py3-none-any.whl\n",
            "Requirement already satisfied: requests<3.0.0 in /usr/local/lib/python3.6/dist-packages (from newsapi-python) (2.23.0)\n",
            "Requirement already satisfied: chardet<4,>=3.0.2 in /usr/local/lib/python3.6/dist-packages (from requests<3.0.0->newsapi-python) (3.0.4)\n",
            "Requirement already satisfied: idna<3,>=2.5 in /usr/local/lib/python3.6/dist-packages (from requests<3.0.0->newsapi-python) (2.10)\n",
            "Requirement already satisfied: certifi>=2017.4.17 in /usr/local/lib/python3.6/dist-packages (from requests<3.0.0->newsapi-python) (2020.12.5)\n",
            "Requirement already satisfied: urllib3!=1.25.0,!=1.25.1,<1.26,>=1.21.1 in /usr/local/lib/python3.6/dist-packages (from requests<3.0.0->newsapi-python) (1.24.3)\n",
            "Installing collected packages: newsapi-python\n",
            "Successfully installed newsapi-python-0.2.6\n"
          ],
          "name": "stdout"
        }
      ]
    },
    {
      "cell_type": "code",
      "metadata": {
        "id": "A6hGbd3-CZdh"
      },
      "source": [
        "from newsapi import NewsApiClient\r\n"
      ],
      "execution_count": null,
      "outputs": []
    },
    {
      "cell_type": "code",
      "metadata": {
        "id": "pxcDjgjSCl_R"
      },
      "source": [
        "newsapi = NewsApiClient(api_key='115d82e6d6a94720adfb66c142dc8119')"
      ],
      "execution_count": null,
      "outputs": []
    },
    {
      "cell_type": "code",
      "metadata": {
        "colab": {
          "base_uri": "https://localhost:8080/"
        },
        "id": "4uYATQGvCtSY",
        "outputId": "96bd2eb5-4262-4db3-968f-5d06f5320471"
      },
      "source": [
        "news_sources = newsapi.get_sources()\r\n",
        "for source in news_sources['sources']:\r\n",
        "    print(source['name'])"
      ],
      "execution_count": null,
      "outputs": [
        {
          "output_type": "stream",
          "text": [
            "ABC News\n",
            "ABC News (AU)\n",
            "Aftenposten\n",
            "Al Jazeera English\n",
            "ANSA.it\n",
            "Argaam\n",
            "Ars Technica\n",
            "Ary News\n",
            "Associated Press\n",
            "Australian Financial Review\n",
            "Axios\n",
            "BBC News\n",
            "BBC Sport\n",
            "Bild\n",
            "Blasting News (BR)\n",
            "Bleacher Report\n",
            "Bloomberg\n",
            "Breitbart News\n",
            "Business Insider\n",
            "Business Insider (UK)\n",
            "Buzzfeed\n",
            "CBC News\n",
            "CBS News\n",
            "CNN\n",
            "CNN Spanish\n",
            "Crypto Coins News\n",
            "Der Tagesspiegel\n",
            "Die Zeit\n",
            "El Mundo\n",
            "Engadget\n",
            "Entertainment Weekly\n",
            "ESPN\n",
            "ESPN Cric Info\n",
            "Financial Post\n",
            "Focus\n",
            "Football Italia\n",
            "Fortune\n",
            "FourFourTwo\n",
            "Fox News\n",
            "Fox Sports\n",
            "Globo\n",
            "Google News\n",
            "Google News (Argentina)\n",
            "Google News (Australia)\n",
            "Google News (Brasil)\n",
            "Google News (Canada)\n",
            "Google News (France)\n",
            "Google News (India)\n",
            "Google News (Israel)\n",
            "Google News (Italy)\n",
            "Google News (Russia)\n",
            "Google News (Saudi Arabia)\n",
            "Google News (UK)\n",
            "Göteborgs-Posten\n",
            "Gruenderszene\n",
            "Hacker News\n",
            "Handelsblatt\n",
            "IGN\n",
            "Il Sole 24 Ore\n",
            "Independent\n",
            "Infobae\n",
            "InfoMoney\n",
            "La Gaceta\n",
            "La Nacion\n",
            "La Repubblica\n",
            "Le Monde\n",
            "Lenta\n",
            "L'equipe\n",
            "Les Echos\n",
            "Libération\n",
            "Marca\n",
            "Mashable\n",
            "Medical News Today\n",
            "MSNBC\n",
            "MTV News\n",
            "MTV News (UK)\n",
            "National Geographic\n",
            "National Review\n",
            "NBC News\n",
            "News24\n",
            "New Scientist\n",
            "News.com.au\n",
            "Newsweek\n",
            "New York Magazine\n",
            "Next Big Future\n",
            "NFL News\n",
            "NHL News\n",
            "NRK\n",
            "Politico\n",
            "Polygon\n",
            "RBC\n",
            "Recode\n",
            "Reddit /r/all\n",
            "Reuters\n",
            "RT\n",
            "RTE\n",
            "RTL Nieuws\n",
            "SABQ\n",
            "Spiegel Online\n",
            "Svenska Dagbladet\n",
            "T3n\n",
            "TalkSport\n",
            "TechCrunch\n",
            "TechCrunch (CN)\n",
            "TechRadar\n",
            "The American Conservative\n",
            "The Globe And Mail\n",
            "The Hill\n",
            "The Hindu\n",
            "The Huffington Post\n",
            "The Irish Times\n",
            "The Jerusalem Post\n",
            "The Lad Bible\n",
            "The Next Web\n",
            "The Sport Bible\n",
            "The Times of India\n",
            "The Verge\n",
            "The Wall Street Journal\n",
            "The Washington Post\n",
            "The Washington Times\n",
            "Time\n",
            "USA Today\n",
            "Vice News\n",
            "Wired\n",
            "Wired.de\n",
            "Wirtschafts Woche\n",
            "Xinhua Net\n",
            "Ynet\n"
          ],
          "name": "stdout"
        }
      ]
    },
    {
      "cell_type": "code",
      "metadata": {
        "id": "PxJYoRxaCyL1"
      },
      "source": [
        "top_headlines = newsapi.get_top_headlines(\r\n",
        "    q='Bribery',\r\n",
        "    language='en',\r\n",
        ")\r\n",
        "for article in top_headlines['articles']:\r\n",
        "    print('Title : ',article['title'])\r\n",
        "    print('Description : ',article['description'],'\\n\\n')"
      ],
      "execution_count": null,
      "outputs": []
    },
    {
      "cell_type": "code",
      "metadata": {
        "colab": {
          "base_uri": "https://localhost:8080/"
        },
        "id": "U_mZmlMWDEJf",
        "outputId": "e5db6fdd-332b-4e2a-9ecb-b73b23eba942"
      },
      "source": [
        "all_articles = newsapi.get_everything(\r\n",
        "    q='Bribery',\r\n",
        "    language='en',   \r\n",
        ")\r\n",
        "for article in all_articles['articles']:\r\n",
        "    print('Source : ',article['source']['name'])\r\n",
        "    print('Title : ',article['title'])\r\n",
        "    print('Description : ',article['description'],'\\n\\n')"
      ],
      "execution_count": null,
      "outputs": [
        {
          "output_type": "stream",
          "text": [
            "Source :  TechCrunch\n",
            "Title :  Samsung vice chairman Jay Y. Lee faces nine-year sentence in bribery case\n",
            "Description :  Samsung Electronics vice chairman Jay Y. Lee faces a nine-year prison term in the bribery case that contributed to the downfall of former president Park Guen-hye. Prosecutors argued that the length of the sentence is warranted because of Samsung’s power as th… \n",
            "\n",
            "\n",
            "Source :  Reuters\n",
            "Title :  Rio mayor arrested over alleged bribery scheme - Reuters India\n",
            "Description :  Rio de Janeiro Mayor Marcelo Crivella was arrested on Tuesday, nine days before the end of his term, for alleged involvement in a corruption scheme at city hall, police and prosecutors said. \n",
            "\n",
            "\n",
            "Source :  Reuters\n",
            "Title :  Italy top court throws out prosecutor appeal against Saipem in Algeria graft case - Reuters\n",
            "Description :  Italy's top court has turned down an appeal by prosecutors to overturn an earlier ruling acquitting Saipem of corruption in a long-running trial over bribery allegations in Algeria, the energy services group said on Monday. \n",
            "\n",
            "\n",
            "Source :  Reuters\n",
            "Title :  EXCLUSIVE-Brazil pursues criminal probe of top Trafigura executives -sources - Reuters UK\n",
            "Description :  Brazilian investigators are pursuing the first criminal probe of current executives at commodities trading firm Trafigura on allegations they approved the bribery of employees at state-controlled oil producer Petrobras, according to three people familiar with… \n",
            "\n",
            "\n",
            "Source :  Reuters\n",
            "Title :  Exclusive: Brazil pursues criminal probe of top Trafigura executives - sources - Reuters UK\n",
            "Description :  Brazilian investigators are pursuing the first criminal probe of current executives at commodities trading firm Trafigura on allegations they approved the bribery of employees at state-controlled oil producer Petrobras, according to three people familiar with… \n",
            "\n",
            "\n",
            "Source :  Reuters\n",
            "Title :  South Korea holds final hearing in Samsung leader Jay Y. Lee's graft trial - Reuters\n",
            "Description :  The final hearing of a trial that will decide whether Samsung Electronics Co Ltd Vice Chairman Jay Y. Lee returns to jail for alleged bribery began in a Seoul court on Wednesday. \n",
            "\n",
            "\n",
            "Source :  Reuters\n",
            "Title :  South Korea holds final hearing in Samsung leader Jay Y. Lee's graft trial - Reuters India\n",
            "Description :  The final hearing of a trial that will decide whether Samsung Electronics Co Ltd Vice Chairman Jay Y. Lee returns to jail for alleged bribery began in a Seoul court on Wednesday. \n",
            "\n",
            "\n",
            "Source :  Reuters\n",
            "Title :  Test administrator avoids prison in U.S. college admissions scandal - Reuters\n",
            "Description :  A former college entrance exam administrator avoided prison on Monday after admitting she participated in a vast U.S. fraud and bribery scheme that has resulted in charges against dozens of wealthy parents. \n",
            "\n",
            "\n",
            "Source :  Reuters\n",
            "Title :  S.Korea holds final hearing in Samsung leader Jay Y. Lee's graft trial - Reuters UK\n",
            "Description :  The final hearing of a trial that will decide whether Samsung Electronics Co Ltd Vice Chairman Jay Y. Lee returns to jail for alleged bribery began in a Seoul court on Wednesday. \n",
            "\n",
            "\n",
            "Source :  Reuters\n",
            "Title :  Deutsche Bank to agree to pay $100 million over bribery charges- NYT - Reuters\n",
            "Description :  Germany's Deutsche Bank is expected to agree to pay more than $100 million to settle charges related to allegedly violating anti-bribery laws as it tried to win business in places like China, The New York Times reported on Friday. \n",
            "\n",
            "\n",
            "Source :  Reuters\n",
            "Title :  UPDATE 1-China Development Bank ex-chairman Hu jailed for life for bribery - Reuters\n",
            "Description :  China Development Bank's former chairman Hu Huaibang has been sentenced to life in prison for bribery, a Chinese court said on Thursday, marking the second high-profile financial executive sentenced in a week. \n",
            "\n",
            "\n",
            "Source :  Reuters\n",
            "Title :  UPDATE 1-China Development Bank ex-chairman Hu jailed for life for bribery - Reuters UK\n",
            "Description :  China Development Bank's former chairman Hu Huaibang has been sentenced to life in prison for bribery, a Chinese court said on Thursday, marking the second high-profile financial executive sentenced in a week. \n",
            "\n",
            "\n",
            "Source :  Reuters\n",
            "Title :  UPDATE 1-China Development Bank ex-chairman Hu jailed for life for bribery - Reuters India\n",
            "Description :  China Development Bank's former chairman Hu Huaibang has been sentenced to life in prison for bribery, a Chinese court said on Thursday, marking the second high-profile financial executive sentenced in a week. \n",
            "\n",
            "\n",
            "Source :  Reuters\n",
            "Title :  Deutsche Bank to agree to pay $100 million over bribery charges- NYT - Reuters\n",
            "Description :  Deutsche Bank is expected to agree to pay more than $100 million to settle charges related to allegedly violating anti-bribery laws as it tried to win business in places like China, the New York Times reported on Friday. \n",
            "\n",
            "\n",
            "Source :  Reuters\n",
            "Title :  Deutsche Bank to agree to pay $100 million over bribery charges- NYT - Reuters\n",
            "Description :  Germany's Deutsche Bank is expected to agree to pay more than $100 million to settle charges related to allegedly violating anti-bribery laws as it tried to win business in places like China, The New York Times reported on Friday. \n",
            "\n",
            "\n",
            "Source :  TechCrunch\n",
            "Title :  Google slammed for ‘monopoly power’ in new antitrust lawsuit from 35 states\n",
            "Description :  Another day, another major antitrust effort seeking to dismantle the unprecedented power of the world’s biggest tech companies. On Thursday, a group of 38 attorneys general announced a bipartisan lawsuit against Google, alleging the company has engaged in “il… \n",
            "\n",
            "\n",
            "Source :  NPR\n",
            "Title :  'Bad Behavior By People In High Office': Rachel Maddow On The Lessons Of Spiro Agnew\n",
            "Description :  Richard Nixon's first vice president resigned amid charges of bribery and tax evasion. Maddow and Mike Yarvitz revisit Agnew's story in the podcast (and now book) Bag Man. Originally broadcast in '19. \n",
            "\n",
            "\n",
            "Source :  Reuters\n",
            "Title :  Rio's mayor arrested over bribery scheme, say police and prosecutors - Reuters\n",
            "Description :  Rio de Janeiro's mayor Marcelo Crivella was arrested on Tuesday morning for alleged involvement in a corruption scheme at city hall, police and prosecutors said. \n",
            "\n",
            "\n",
            "Source :  Reuters\n",
            "Title :  Deutsche Bank to pay more than $87 million over bribery charges - U.S. prosecutors - Reuters\n",
            "Description :  Deutsche Bank AG agreed to pay more than $124 million to avoid prosecution and resolve charges it violated U.S. anti-bribery and commodities trading laws, the latest blow for the German bank as it tries to repair its image after a series of scandals. \n",
            "\n",
            "\n",
            "Source :  New York Times\n",
            "Title :  How to Impeach a President in 12 Days: Here’s What It Would Take\n",
            "Description :  The storming of the Capitol has prompted a fresh drive by Democrats to impeach President Trump, who egged on the insurrection, for a second time. But there are less than two weeks left in his term. \n",
            "\n",
            "\n"
          ],
          "name": "stdout"
        }
      ]
    },
    {
      "cell_type": "code",
      "metadata": {
        "id": "lxM2XpoeDRyy"
      },
      "source": [
        ""
      ],
      "execution_count": null,
      "outputs": []
    }
  ]
}